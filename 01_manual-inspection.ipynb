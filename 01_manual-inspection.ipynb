{
 "cells": [
  {
   "cell_type": "code",
   "execution_count": 19,
   "metadata": {},
   "outputs": [],
   "source": [
    "import json\n",
    "import os\n",
    "import time\n",
    "\n",
    "from instagramy import InstagramUser\n",
    "from instagramy import InstagramHashTag\n",
    "from instagramy import InstagramPost\n",
    "\n",
    "from nedima.utils import adls_utils\n",
    "from nedima.utils import groundswell as gs"
   ]
  },
  {
   "cell_type": "code",
   "execution_count": 25,
   "metadata": {},
   "outputs": [],
   "source": [
    "secrets = adls_utils.load_secrets()\n",
    "adls_client = adls_utils.initialize_storage_account_ad()\n",
    "fs_client = adls_client.get_file_system_client(file_system=\"landing\")"
   ]
  },
  {
   "cell_type": "code",
   "execution_count": 5,
   "id": "light-alert",
   "metadata": {},
   "outputs": [],
   "source": [
    "#secrets"
   ]
  },
  {
   "cell_type": "code",
   "execution_count": 24,
   "id": "strong-float",
   "metadata": {},
   "outputs": [],
   "source": [
    "tag_dated = InstagramHashTag('surf', sessionid=secrets['instagram']['session_id'])\n",
    "#time.sleep(60)"
   ]
  },
  {
   "cell_type": "code",
   "execution_count": 18,
   "metadata": {},
   "outputs": [
    {
     "output_type": "execute_result",
     "data": {
      "text/plain": [
       "360"
      ]
     },
     "metadata": {},
     "execution_count": 18
    }
   ],
   "source": [
    "while(True):\n",
    "    tag_latest = InstagramHashTag('surf', sessionid=secrets['instagram']['session_id'])\n",
    "\n",
    "    dump_dict = {\n",
    "        \"posts_short\" : gs.get_diff_top_posts(tag_latest, tag_dated),\n",
    "        \"posts_full\" : gs.get_diff_json(tag_latest, tag_dated, False)\n",
    "    }\n",
    "\n",
    "    adls_utils.dump_adls_json(dump_dict, tag_latest, fs_client)\n",
    "    time.sleep(gs.calculate_waiting_time(tag_latest, tag_dated))\n",
    "    tag_dated = tag_latest"
   ]
  }
 ],
 "metadata": {
  "kernelspec": {
   "display_name": "scrap38",
   "language": "python",
   "name": "scrap38"
  },
  "language_info": {
   "codemirror_mode": {
    "name": "ipython",
    "version": 3
   },
   "file_extension": ".py",
   "mimetype": "text/x-python",
   "name": "python",
   "nbconvert_exporter": "python",
   "pygments_lexer": "ipython3",
   "version": "3.8.5-final"
  }
 },
 "nbformat": 4,
 "nbformat_minor": 5
}