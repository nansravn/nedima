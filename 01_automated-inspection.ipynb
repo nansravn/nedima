{
 "cells": [
  {
   "cell_type": "code",
   "execution_count": 1,
   "metadata": {},
   "outputs": [],
   "source": [
    "import json\n",
    "import os\n",
    "import time\n",
    "import pickle\n",
    "import random\n",
    "\n",
    "from instagramy import InstagramUser\n",
    "from instagramy import InstagramHashTag\n",
    "from instagramy import InstagramPost\n",
    "\n",
    "from nedima.utils import adls_utils\n",
    "from nedima.utils import groundswell as gs\n",
    "from nedima.utils import env_setup\n"
   ]
  },
  {
   "cell_type": "code",
   "execution_count": 2,
   "metadata": {},
   "outputs": [],
   "source": [
    "secrets = env_setup.load_secrets()\n",
    "adls_client = adls_utils.initialize_storage_account_ad()\n",
    "fs_client = adls_client.get_file_system_client(file_system=secrets['azure']['adls_fs_landing'])"
   ]
  },
  {
   "cell_type": "code",
   "execution_count": 3,
   "id": "light-alert",
   "metadata": {},
   "outputs": [],
   "source": [
    "#secrets"
   ]
  },
  {
   "cell_type": "code",
   "execution_count": 3,
   "metadata": {
    "tags": []
   },
   "outputs": [
    {
     "output_type": "stream",
     "name": "stdout",
     "text": [
      "[SNAPSHOT] Next inspection scheduled for 2021-02-21 01:52:30. 0 seconds remaining.\n",
      "[SESSION] Randomly selected the sessionid 45770346259%3AHjwhm9TUY86w2u%3A9 for the next inspection\n",
      "[DIFF] 41 new posts in the last 474 seconds\n",
      "[UPLOAD] posts_short was uploaded to the filesystem landing in the path tag/surf/posts_short/2021/02/21/015324_0041.json\n",
      "[UPLOAD] posts_full was uploaded to the filesystem landing in the path tag/surf/posts_full/2021/02/21/015324_0041.json\n",
      "\n",
      "[SNAPSHOT] Next inspection scheduled for 2021-02-21 02:02:38. 540 seconds remaining.\n"
     ]
    }
   ],
   "source": [
    "while(True):\n",
    "    \n",
    "    tag_dated, sleep_time = gs.start_inspection_iteration('surf')\n",
    "    time.sleep(sleep_time)\n",
    "\n",
    "    tag_latest = gs.inspect_posts('surf')\n",
    "\n",
    "    dump_dict = gs.structure_inspection_json(tag_latest, tag_dated)\n",
    "    adls_utils.dump_adls_json(dump_dict, tag_latest, fs_client)\n",
    "\n",
    "    gs.dump_inspection_snapshot(tag_latest, tag_dated, 'surf')\n",
    "    print(\"\")"
   ]
  },
  {
   "cell_type": "code",
   "execution_count": null,
   "metadata": {},
   "outputs": [],
   "source": []
  }
 ],
 "metadata": {
  "kernelspec": {
   "display_name": "scrap38",
   "language": "python",
   "name": "scrap38"
  },
  "language_info": {
   "codemirror_mode": {
    "name": "ipython",
    "version": 3
   },
   "file_extension": ".py",
   "mimetype": "text/x-python",
   "name": "python",
   "nbconvert_exporter": "python",
   "pygments_lexer": "ipython3",
   "version": "3.8.5-final"
  }
 },
 "nbformat": 4,
 "nbformat_minor": 5
}