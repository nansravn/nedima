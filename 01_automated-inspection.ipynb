{
 "cells": [
  {
   "cell_type": "code",
   "execution_count": 1,
   "metadata": {},
   "outputs": [],
   "source": [
    "import json\n",
    "import os\n",
    "import time\n",
    "import pickle\n",
    "import random\n",
    "import logging\n",
    "\n",
    "from opencensus.ext.azure.log_exporter import AzureEventHandler\n",
    "\n",
    "from instagramy import InstagramUser\n",
    "from instagramy import InstagramHashTag\n",
    "from instagramy import InstagramPost\n",
    "\n",
    "from nedima.utils import adls_utils\n",
    "from nedima.utils import groundswell as gs\n",
    "from nedima.utils import env_setup\n",
    "from nedima.utils import azure_logger\n"
   ]
  },
  {
   "cell_type": "code",
   "execution_count": 2,
   "metadata": {},
   "outputs": [],
   "source": [
    "secrets = env_setup.load_secrets()\n",
    "adls_client = adls_utils.initialize_storage_account_ad()\n",
    "fs_client = adls_client.get_file_system_client(file_system=secrets['azure']['adls_fs_landing'])"
   ]
  },
  {
   "cell_type": "code",
   "execution_count": 3,
   "metadata": {},
   "outputs": [],
   "source": [
    "custom_events_logger = logging.getLogger('log_global')\n",
    "custom_events_logger.addHandler(AzureEventHandler(connection_string=secrets['azure']['appi_connection']))\n",
    "custom_events_logger.setLevel(logging.INFO)"
   ]
  },
  {
   "source": [
    "#secrets\n",
    "\n",
    "* time_posts_lost\n",
    "* n_posts_total\n",
    "* n_posts_trim\n",
    "* n_posts_diff\n",
    "* time_posts_diff\n",
    "* time_posts_total\n",
    "* id_instagram_session\" : \"45932114631%3Anri1Psz9XrJWgA%3A9\"\n",
    "* time_next_inspection\" : 360\n",
    "* id_filepath\" : \"2021/02/20/153842_0037.json\"\n",
    "* id_hashtag\" : \"surf\"\n",
    "\n"
   ],
   "cell_type": "markdown",
   "metadata": {}
  },
  {
   "cell_type": "code",
   "execution_count": 5,
   "metadata": {
    "tags": []
   },
   "outputs": [
    {
     "output_type": "stream",
     "name": "stdout",
     "text": [
      "[SNAPSHOT] Next inspection scheduled for 2021-03-07 20:03:20. 0 seconds remaining.\n",
      "[SNAPSHOT] Next inspection scheduled for 2021-03-07 20:36:37. 318 seconds remaining.\n",
      "[SNAPSHOT] Next inspection scheduled for 2021-03-07 20:43:06. 384 seconds remaining.\n",
      "[SNAPSHOT] Next inspection scheduled for 2021-03-07 20:48:29. 318 seconds remaining.\n",
      "[SNAPSHOT] Next inspection scheduled for 2021-03-07 20:53:50. 315 seconds remaining.\n"
     ]
    }
   ],
   "source": [
    "log_inspection = {}\n",
    "while(True):\n",
    "    \n",
    "    tag_dated, sleep_time = gs.start_inspection_iteration('surf', logging_dict = log_inspection)\n",
    "    time.sleep(sleep_time)\n",
    "\n",
    "    tag_latest = gs.inspect_posts('surf', logging_dict = log_inspection)\n",
    "\n",
    "    dump_dict = gs.structure_inspection_json(tag_latest, tag_dated, logging_dict = log_inspection)\n",
    "    adls_utils.dump_adls_json(dump_dict, tag_latest, fs_client, logging_dict = log_inspection)\n",
    "\n",
    "    gs.dump_inspection_snapshot(tag_latest, tag_dated, 'surf', logging_dict = log_inspection)\n",
    "\n",
    "    azure_logger.log_inspection_iteration(custom_events_logger, 'surf', logging_dict = log_inspection)\n"
   ]
  },
  {
   "cell_type": "code",
   "execution_count": 3,
   "metadata": {},
   "outputs": [],
   "source": [
    "#from instagramy import InstagramHashTag\n",
    "#tag_latest = InstagramHashTag(\"sabado\", sessionid=\"*********\")"
   ]
  }
 ],
 "metadata": {
  "kernelspec": {
   "display_name": "scrap38",
   "language": "python",
   "name": "scrap38"
  },
  "language_info": {
   "codemirror_mode": {
    "name": "ipython",
    "version": 3
   },
   "file_extension": ".py",
   "mimetype": "text/x-python",
   "name": "python",
   "nbconvert_exporter": "python",
   "pygments_lexer": "ipython3",
   "version": "3.8.5-final"
  }
 },
 "nbformat": 4,
 "nbformat_minor": 5
}