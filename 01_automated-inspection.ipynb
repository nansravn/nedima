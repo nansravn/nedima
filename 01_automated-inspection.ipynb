{
 "cells": [
  {
   "cell_type": "code",
   "execution_count": 1,
   "metadata": {},
   "outputs": [],
   "source": [
    "import json\n",
    "import os\n",
    "import time\n",
    "import pickle\n",
    "import random\n",
    "\n",
    "from instagramy import InstagramUser\n",
    "from instagramy import InstagramHashTag\n",
    "from instagramy import InstagramPost\n",
    "\n",
    "from nedima.utils import adls_utils\n",
    "from nedima.utils import groundswell as gs\n",
    "from nedima.utils import env_setup\n"
   ]
  },
  {
   "cell_type": "code",
   "execution_count": 2,
   "metadata": {},
   "outputs": [],
   "source": [
    "secrets = env_setup.load_secrets()\n",
    "adls_client = adls_utils.initialize_storage_account_ad()\n",
    "fs_client = adls_client.get_file_system_client(file_system=secrets['azure']['adls_fs_landing'])"
   ]
  },
  {
   "cell_type": "code",
   "execution_count": 3,
   "id": "light-alert",
   "metadata": {},
   "outputs": [],
   "source": [
    "#secrets"
   ]
  },
  {
   "cell_type": "code",
   "execution_count": 4,
   "metadata": {},
   "outputs": [],
   "source": [
    "# 1. \"time_posts_lost\" : 185\n",
    "# 2. \"n_posts_total\" : 58\n",
    "# 2. \"n_posts_trim\" : 14\n",
    "# 3. \"n_posts_diff\" : 44\n",
    "# 4. \"time_posts_diff\" : 335\n",
    "# Time_last_inspection == (time_posts_diff + time_posts_lost)\n",
    "# 5. \"time_last_inspection\" : 450\n",
    "# 6. \"id_ig_session\" : \"45932114631%3Anri1Psz9XrJWgA%3A9\"\n",
    "# 7. \"time_next_inspection\" : 360\n",
    "# 8. \"id_filepath\" : \"2021/02/20/153842_0037.json\"\n",
    "# 9. \"id_tag\" : \"surf\"\n"
   ]
  },
  {
   "cell_type": "code",
   "execution_count": 4,
   "metadata": {
    "tags": []
   },
   "outputs": [
    {
     "output_type": "stream",
     "name": "stdout",
     "text": [
      "[SNAPSHOT] Next inspection scheduled for 2021-02-21 01:52:30. 0 seconds remaining.\n"
     ]
    },
    {
     "output_type": "error",
     "ename": "NameError",
     "evalue": "name 'random' is not defined",
     "traceback": [
      "\u001b[1;31m---------------------------------------------------------------------------\u001b[0m",
      "\u001b[1;31mNameError\u001b[0m                                 Traceback (most recent call last)",
      "\u001b[1;32m<ipython-input-4-ac7603de963f>\u001b[0m in \u001b[0;36m<module>\u001b[1;34m\u001b[0m\n\u001b[0;32m      4\u001b[0m     \u001b[0mtime\u001b[0m\u001b[1;33m.\u001b[0m\u001b[0msleep\u001b[0m\u001b[1;33m(\u001b[0m\u001b[0msleep_time\u001b[0m\u001b[1;33m)\u001b[0m\u001b[1;33m\u001b[0m\u001b[1;33m\u001b[0m\u001b[0m\n\u001b[0;32m      5\u001b[0m \u001b[1;33m\u001b[0m\u001b[0m\n\u001b[1;32m----> 6\u001b[1;33m     \u001b[0mtag_latest\u001b[0m \u001b[1;33m=\u001b[0m \u001b[0mgs\u001b[0m\u001b[1;33m.\u001b[0m\u001b[0minspect_posts\u001b[0m\u001b[1;33m(\u001b[0m\u001b[1;33m)\u001b[0m\u001b[1;33m\u001b[0m\u001b[1;33m\u001b[0m\u001b[0m\n\u001b[0m\u001b[0;32m      7\u001b[0m \u001b[1;33m\u001b[0m\u001b[0m\n\u001b[0;32m      8\u001b[0m     \u001b[0mdump_dict\u001b[0m \u001b[1;33m=\u001b[0m \u001b[0mgs\u001b[0m\u001b[1;33m.\u001b[0m\u001b[0mstructure_inspection_json\u001b[0m\u001b[1;33m(\u001b[0m\u001b[0mtag_latest\u001b[0m\u001b[1;33m,\u001b[0m \u001b[0mtag_dated\u001b[0m\u001b[1;33m)\u001b[0m\u001b[1;33m\u001b[0m\u001b[1;33m\u001b[0m\u001b[0m\n",
      "\u001b[1;32mc:\\Users\\revilasn\\Documents\\GitHub\\nedima\\nedima\\utils\\groundswell.py\u001b[0m in \u001b[0;36minspect_posts\u001b[1;34m(inspection_hashtag, secrets_dict, flag_print)\u001b[0m\n\u001b[0;32m    196\u001b[0m \u001b[1;33m\u001b[0m\u001b[0m\n\u001b[0;32m    197\u001b[0m \u001b[1;32mdef\u001b[0m \u001b[0minspect_posts\u001b[0m\u001b[1;33m(\u001b[0m\u001b[0minspection_hashtag\u001b[0m \u001b[1;33m=\u001b[0m \u001b[1;34m'surf'\u001b[0m\u001b[1;33m,\u001b[0m \u001b[0msecrets_dict\u001b[0m \u001b[1;33m=\u001b[0m \u001b[0menv_setup\u001b[0m\u001b[1;33m.\u001b[0m\u001b[0mload_secrets\u001b[0m\u001b[1;33m(\u001b[0m\u001b[1;33m)\u001b[0m\u001b[1;33m,\u001b[0m \u001b[0mflag_print\u001b[0m \u001b[1;33m=\u001b[0m \u001b[1;32mTrue\u001b[0m\u001b[1;33m)\u001b[0m\u001b[1;33m:\u001b[0m\u001b[1;33m\u001b[0m\u001b[1;33m\u001b[0m\u001b[0m\n\u001b[1;32m--> 198\u001b[1;33m     \u001b[0mrandom_id\u001b[0m \u001b[1;33m=\u001b[0m \u001b[0mrandom\u001b[0m\u001b[1;33m.\u001b[0m\u001b[0mchoice\u001b[0m\u001b[1;33m(\u001b[0m\u001b[0msecrets_dict\u001b[0m\u001b[1;33m[\u001b[0m\u001b[1;34m'instagram'\u001b[0m\u001b[1;33m]\u001b[0m\u001b[1;33m[\u001b[0m\u001b[1;34m'session_id'\u001b[0m\u001b[1;33m]\u001b[0m\u001b[1;33m)\u001b[0m\u001b[1;33m\u001b[0m\u001b[1;33m\u001b[0m\u001b[0m\n\u001b[0m\u001b[0;32m    199\u001b[0m     \u001b[1;32mif\u001b[0m \u001b[0mflag_print\u001b[0m\u001b[1;33m:\u001b[0m\u001b[1;33m\u001b[0m\u001b[1;33m\u001b[0m\u001b[0m\n\u001b[0;32m    200\u001b[0m         \u001b[0mprint\u001b[0m\u001b[1;33m(\u001b[0m\u001b[1;34m\"[SESSION] Randomly selected the sessionid {} for the next inspection\"\u001b[0m\u001b[1;33m.\u001b[0m\u001b[0mformat\u001b[0m\u001b[1;33m(\u001b[0m\u001b[0mrandom_id\u001b[0m\u001b[1;33m)\u001b[0m\u001b[1;33m)\u001b[0m\u001b[1;33m\u001b[0m\u001b[1;33m\u001b[0m\u001b[0m\n",
      "\u001b[1;31mNameError\u001b[0m: name 'random' is not defined"
     ]
    }
   ],
   "source": [
    "while(True):\n",
    "    \n",
    "    tag_dated, sleep_time = gs.start_inspection_iteration('surf')\n",
    "    time.sleep(sleep_time)\n",
    "\n",
    "    tag_latest = gs.inspect_posts()\n",
    "\n",
    "    dump_dict = gs.structure_inspection_json(tag_latest, tag_dated)\n",
    "    adls_utils.dump_adls_json(dump_dict, tag_latest, fs_client)\n",
    "\n",
    "    gs.dump_inspection_snapshot(tag_latest, tag_dated, 'surf')\n",
    "    print(\"\")"
   ]
  },
  {
   "cell_type": "code",
   "execution_count": null,
   "metadata": {},
   "outputs": [],
   "source": []
  }
 ],
 "metadata": {
  "kernelspec": {
   "display_name": "scrap38",
   "language": "python",
   "name": "scrap38"
  },
  "language_info": {
   "codemirror_mode": {
    "name": "ipython",
    "version": 3
   },
   "file_extension": ".py",
   "mimetype": "text/x-python",
   "name": "python",
   "nbconvert_exporter": "python",
   "pygments_lexer": "ipython3",
   "version": "3.8.5-final"
  }
 },
 "nbformat": 4,
 "nbformat_minor": 5
}