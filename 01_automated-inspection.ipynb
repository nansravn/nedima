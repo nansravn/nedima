{
 "cells": [
  {
   "cell_type": "code",
   "execution_count": 1,
   "metadata": {},
   "outputs": [],
   "source": [
    "import json\n",
    "import os\n",
    "import time\n",
    "import pickle\n",
    "\n",
    "from instagramy import InstagramUser\n",
    "from instagramy import InstagramHashTag\n",
    "from instagramy import InstagramPost\n",
    "\n",
    "from nedima.utils import adls_utils\n",
    "from nedima.utils import groundswell as gs"
   ]
  },
  {
   "cell_type": "code",
   "execution_count": 2,
   "metadata": {},
   "outputs": [],
   "source": [
    "secrets = adls_utils.load_secrets()\n",
    "adls_client = adls_utils.initialize_storage_account_ad()\n",
    "fs_client = adls_client.get_file_system_client(file_system=secrets['azure']['adls_fs_landing'])"
   ]
  },
  {
   "cell_type": "code",
   "execution_count": 3,
   "id": "light-alert",
   "metadata": {},
   "outputs": [],
   "source": [
    "#secrets"
   ]
  },
  {
   "cell_type": "code",
   "execution_count": 4,
   "metadata": {},
   "outputs": [
    {
     "output_type": "stream",
     "name": "stdout",
     "text": [
      "[SNAPSHOT] Next inspection scheduled for 2021-02-14 15:49:21. 63 seconds remaining.\n"
     ]
    }
   ],
   "source": [
    "while(True):\n",
    "    try:\n",
    "        tag_dated, sleep_time = adls_utils.load_inspection_snapshot()\n",
    "    except:\n",
    "        tag_dated = InstagramHashTag('surf', sessionid=secrets['instagram']['session_id'])\n",
    "        sleep_time = 30 + gs.calculate_waiting_time(tag_dated, tag_dated)\n",
    "        print(\"[SNAPSHOT] The snapshot couldn't be loaded. A new snapshot will be generated. Some posts may have gotten lost.\")\n",
    "        print(\"[SNAPSHOT] {} seconds remaining until next inspection.\".format(sleep_time))\n",
    "    \n",
    "    time.sleep(sleep_time)\n",
    "    tag_latest = InstagramHashTag('surf', sessionid=secrets['instagram']['session_id'])\n",
    "\n",
    "    dump_dict = {\n",
    "        \"posts_short\" : gs.get_diff_top_posts(tag_latest, tag_dated),\n",
    "        \"posts_full\" : gs.get_diff_json(tag_latest, tag_dated, False)\n",
    "    }\n",
    "\n",
    "    adls_utils.dump_adls_json(dump_dict, tag_latest, fs_client)\n",
    "\n",
    "    adls_utils.dump_inspection_snapshot(tag_latest, tag_dated) "
   ]
  },
  {
   "cell_type": "code",
   "execution_count": null,
   "metadata": {},
   "outputs": [],
   "source": []
  }
 ],
 "metadata": {
  "kernelspec": {
   "display_name": "scrap38",
   "language": "python",
   "name": "scrap38"
  },
  "language_info": {
   "codemirror_mode": {
    "name": "ipython",
    "version": 3
   },
   "file_extension": ".py",
   "mimetype": "text/x-python",
   "name": "python",
   "nbconvert_exporter": "python",
   "pygments_lexer": "ipython3",
   "version": "3.8.5-final"
  }
 },
 "nbformat": 4,
 "nbformat_minor": 5
}