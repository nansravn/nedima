{
 "cells": [
  {
   "cell_type": "code",
   "execution_count": 1,
   "metadata": {},
   "outputs": [],
   "source": [
    "import json\n",
    "import os\n",
    "import time\n",
    "import pickle\n",
    "import random\n",
    "\n",
    "from instagramy import InstagramUser\n",
    "from instagramy import InstagramHashTag\n",
    "from instagramy import InstagramPost\n",
    "\n",
    "from nedima.utils import adls_utils\n",
    "from nedima.utils import groundswell as gs"
   ]
  },
  {
   "cell_type": "code",
   "execution_count": 2,
   "metadata": {},
   "outputs": [],
   "source": [
    "secrets = adls_utils.load_secrets()\n",
    "adls_client = adls_utils.initialize_storage_account_ad()\n",
    "fs_client = adls_client.get_file_system_client(file_system=secrets['azure']['adls_fs_landing'])"
   ]
  },
  {
   "cell_type": "code",
   "execution_count": 3,
   "id": "light-alert",
   "metadata": {},
   "outputs": [],
   "source": [
    "#secrets"
   ]
  },
  {
   "cell_type": "code",
   "execution_count": 4,
   "metadata": {},
   "outputs": [],
   "source": [
    "#tag_dated, sleep_time = adls_utils.load_inspection_snapshot()\n",
    "#for idx, val in enumerate(gs.trim_top_posts(tag_dated.top_posts, delta_seconds = 45)):\n",
    "#    print(idx, val.upload_time, val.shortcode)"
   ]
  },
  {
   "cell_type": "code",
   "execution_count": 1,
   "metadata": {
    "tags": []
   },
   "outputs": [
    {
     "output_type": "error",
     "ename": "NameError",
     "evalue": "name 'InstagramHashTag' is not defined",
     "traceback": [
      "\u001b[1;31m---------------------------------------------------------------------------\u001b[0m",
      "\u001b[1;31mNameError\u001b[0m                                 Traceback (most recent call last)",
      "\u001b[1;32m<ipython-input-1-a4e8404e1d48>\u001b[0m in \u001b[0;36m<module>\u001b[1;34m\u001b[0m\n\u001b[0;32m      2\u001b[0m     \u001b[1;32mtry\u001b[0m\u001b[1;33m:\u001b[0m\u001b[1;33m\u001b[0m\u001b[1;33m\u001b[0m\u001b[0m\n\u001b[1;32m----> 3\u001b[1;33m         \u001b[0mtag_dated\u001b[0m\u001b[1;33m,\u001b[0m \u001b[0msleep_time\u001b[0m \u001b[1;33m=\u001b[0m \u001b[0madls_utils\u001b[0m\u001b[1;33m.\u001b[0m\u001b[0mload_inspection_snapshot\u001b[0m\u001b[1;33m(\u001b[0m\u001b[1;33m)\u001b[0m\u001b[1;33m\u001b[0m\u001b[1;33m\u001b[0m\u001b[0m\n\u001b[0m\u001b[0;32m      4\u001b[0m     \u001b[1;32mexcept\u001b[0m\u001b[1;33m:\u001b[0m\u001b[1;33m\u001b[0m\u001b[1;33m\u001b[0m\u001b[0m\n",
      "\u001b[1;31mNameError\u001b[0m: name 'adls_utils' is not defined",
      "\nDuring handling of the above exception, another exception occurred:\n",
      "\u001b[1;31mNameError\u001b[0m                                 Traceback (most recent call last)",
      "\u001b[1;32m<ipython-input-1-a4e8404e1d48>\u001b[0m in \u001b[0;36m<module>\u001b[1;34m\u001b[0m\n\u001b[0;32m      3\u001b[0m         \u001b[0mtag_dated\u001b[0m\u001b[1;33m,\u001b[0m \u001b[0msleep_time\u001b[0m \u001b[1;33m=\u001b[0m \u001b[0madls_utils\u001b[0m\u001b[1;33m.\u001b[0m\u001b[0mload_inspection_snapshot\u001b[0m\u001b[1;33m(\u001b[0m\u001b[1;33m)\u001b[0m\u001b[1;33m\u001b[0m\u001b[1;33m\u001b[0m\u001b[0m\n\u001b[0;32m      4\u001b[0m     \u001b[1;32mexcept\u001b[0m\u001b[1;33m:\u001b[0m\u001b[1;33m\u001b[0m\u001b[1;33m\u001b[0m\u001b[0m\n\u001b[1;32m----> 5\u001b[1;33m         \u001b[0mtag_dated\u001b[0m \u001b[1;33m=\u001b[0m \u001b[0mInstagramHashTag\u001b[0m\u001b[1;33m(\u001b[0m\u001b[1;34m'surf'\u001b[0m\u001b[1;33m,\u001b[0m \u001b[0msessionid\u001b[0m\u001b[1;33m=\u001b[0m\u001b[0mrandom\u001b[0m\u001b[1;33m.\u001b[0m\u001b[0mchoice\u001b[0m\u001b[1;33m(\u001b[0m\u001b[0msecrets\u001b[0m\u001b[1;33m[\u001b[0m\u001b[1;34m'instagram'\u001b[0m\u001b[1;33m]\u001b[0m\u001b[1;33m[\u001b[0m\u001b[1;34m'session_id'\u001b[0m\u001b[1;33m]\u001b[0m\u001b[1;33m)\u001b[0m\u001b[1;33m)\u001b[0m\u001b[1;33m\u001b[0m\u001b[1;33m\u001b[0m\u001b[0m\n\u001b[0m\u001b[0;32m      6\u001b[0m         \u001b[0msleep_time\u001b[0m \u001b[1;33m=\u001b[0m \u001b[1;36m30\u001b[0m \u001b[1;33m+\u001b[0m \u001b[0mgs\u001b[0m\u001b[1;33m.\u001b[0m\u001b[0mcalculate_waiting_time\u001b[0m\u001b[1;33m(\u001b[0m\u001b[0mtag_dated\u001b[0m\u001b[1;33m,\u001b[0m \u001b[0mtag_dated\u001b[0m\u001b[1;33m)\u001b[0m\u001b[1;33m\u001b[0m\u001b[1;33m\u001b[0m\u001b[0m\n\u001b[0;32m      7\u001b[0m         \u001b[0mprint\u001b[0m\u001b[1;33m(\u001b[0m\u001b[1;34m\"[SNAPSHOT] The snapshot couldn't be loaded. A new snapshot will be generated. Some posts may have gotten lost\"\u001b[0m\u001b[1;33m)\u001b[0m\u001b[1;33m\u001b[0m\u001b[1;33m\u001b[0m\u001b[0m\n",
      "\u001b[1;31mNameError\u001b[0m: name 'InstagramHashTag' is not defined"
     ]
    }
   ],
   "source": [
    "while(True):\n",
    "    try:\n",
    "        tag_dated, sleep_time = adls_utils.load_inspection_snapshot()\n",
    "    except:\n",
    "        tag_dated = InstagramHashTag('surf', sessionid=random.choice(secrets['instagram']['session_id']))\n",
    "        sleep_time = 30 + gs.calculate_waiting_time(tag_dated, tag_dated)\n",
    "        print(\"[SNAPSHOT] The snapshot couldn't be loaded. A new snapshot will be generated. Some posts may have gotten lost\")\n",
    "        print(\"[SNAPSHOT] {} seconds remaining until next inspection\".format(sleep_time))\n",
    "    \n",
    "    time.sleep(sleep_time)\n",
    "\n",
    "    random_id = random.choice(secrets['instagram']['session_id'])\n",
    "    print(\"[SESSION] Randomly selected the sessionid {} for the next inspection\".format(random_id))\n",
    "    tag_latest = InstagramHashTag('surf', sessionid=random_id)\n",
    "\n",
    "    dump_dict = {\n",
    "        \"posts_short\" : gs.get_diff_top_posts(tag_latest, tag_dated),\n",
    "        \"posts_full\" : gs.get_diff_json(tag_latest, tag_dated, False)\n",
    "    }\n",
    "\n",
    "    adls_utils.dump_adls_json(dump_dict, tag_latest, fs_client)\n",
    "\n",
    "    adls_utils.dump_inspection_snapshot(tag_latest, tag_dated)\n",
    "    print(\"\")"
   ]
  }
 ],
 "metadata": {
  "kernelspec": {
   "display_name": "scrap38",
   "language": "python",
   "name": "scrap38"
  },
  "language_info": {
   "codemirror_mode": {
    "name": "ipython",
    "version": 3
   },
   "file_extension": ".py",
   "mimetype": "text/x-python",
   "name": "python",
   "nbconvert_exporter": "python",
   "pygments_lexer": "ipython3",
   "version": "3.8.5-final"
  }
 },
 "nbformat": 4,
 "nbformat_minor": 5
}