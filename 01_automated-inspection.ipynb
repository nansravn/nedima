{
 "cells": [
  {
   "cell_type": "code",
   "execution_count": 1,
   "metadata": {},
   "outputs": [],
   "source": [
    "import json\n",
    "import os\n",
    "import time\n",
    "import pickle\n",
    "import random\n",
    "\n",
    "from instagramy import InstagramUser\n",
    "from instagramy import InstagramHashTag\n",
    "from instagramy import InstagramPost\n",
    "\n",
    "from nedima.utils import adls_utils\n",
    "from nedima.utils import groundswell as gs"
   ]
  },
  {
   "cell_type": "code",
   "execution_count": 2,
   "metadata": {},
   "outputs": [],
   "source": [
    "secrets = adls_utils.load_secrets()\n",
    "adls_client = adls_utils.initialize_storage_account_ad()\n",
    "fs_client = adls_client.get_file_system_client(file_system=secrets['azure']['adls_fs_landing'])"
   ]
  },
  {
   "cell_type": "code",
   "execution_count": 3,
   "id": "light-alert",
   "metadata": {},
   "outputs": [],
   "source": [
    "#secrets"
   ]
  },
  {
   "cell_type": "code",
   "execution_count": 9,
   "metadata": {},
   "outputs": [
    {
     "output_type": "stream",
     "name": "stdout",
     "text": [
      "[SNAPSHOT] Next inspection scheduled for 2021-02-14 21:42:15. 84 seconds remaining.\n",
      "[2021-02-14 21:41:57] 60 new posts in the last 342 seconds (idx was not found)\n",
      "[UPLOAD] posts_short was uploaded to the filesystem landing in the path tag/surf/posts_short/2021/02/14/214157_0060.json\n",
      "[UPLOAD] posts_full was uploaded to the filesystem landing in the path tag/surf/posts_full/2021/02/14/214157_0060.json\n",
      "[SNAPSHOT] Next inspection scheduled for 2021-02-14 21:47:57. 337 seconds remaining.\n",
      "[2021-02-14 21:47:53] 60 new posts in the last 356 seconds (idx was not found)\n",
      "[UPLOAD] posts_short was uploaded to the filesystem landing in the path tag/surf/posts_short/2021/02/14/214753_0060.json\n",
      "[UPLOAD] posts_full was uploaded to the filesystem landing in the path tag/surf/posts_full/2021/02/14/214753_0060.json\n",
      "[SNAPSHOT] Next inspection scheduled for 2021-02-14 21:53:53. 351 seconds remaining.\n",
      "[2021-02-14 21:53:42] 49 new posts in the last 349 seconds\n",
      "[UPLOAD] posts_short was uploaded to the filesystem landing in the path tag/surf/posts_short/2021/02/14/215342_0049.json\n",
      "[UPLOAD] posts_full was uploaded to the filesystem landing in the path tag/surf/posts_full/2021/02/14/215342_0049.json\n",
      "[SNAPSHOT] Next inspection scheduled for 2021-02-14 21:59:42. 343 seconds remaining.\n",
      "[2021-02-14 21:59:23] 39 new posts in the last 341 seconds\n",
      "[UPLOAD] posts_short was uploaded to the filesystem landing in the path tag/surf/posts_short/2021/02/14/215923_0039.json\n",
      "[UPLOAD] posts_full was uploaded to the filesystem landing in the path tag/surf/posts_full/2021/02/14/215923_0039.json\n",
      "[SNAPSHOT] Next inspection scheduled for 2021-02-14 22:06:22. 396 seconds remaining.\n",
      "[2021-02-14 22:06:17] 59 new posts in the last 414 seconds (idx was not found)\n",
      "[UPLOAD] posts_short was uploaded to the filesystem landing in the path tag/surf/posts_short/2021/02/14/220617_0059.json\n",
      "[UPLOAD] posts_full was uploaded to the filesystem landing in the path tag/surf/posts_full/2021/02/14/220617_0059.json\n",
      "[SNAPSHOT] Next inspection scheduled for 2021-02-14 22:12:17. 350 seconds remaining.\n",
      "[2021-02-14 22:12:13] 39 new posts in the last 356 seconds\n",
      "[UPLOAD] posts_short was uploaded to the filesystem landing in the path tag/surf/posts_short/2021/02/14/221213_0039.json\n",
      "[UPLOAD] posts_full was uploaded to the filesystem landing in the path tag/surf/posts_full/2021/02/14/221213_0039.json\n",
      "[SNAPSHOT] Next inspection scheduled for 2021-02-14 22:19:31. 429 seconds remaining.\n"
     ]
    }
   ],
   "source": [
    "while(True):\n",
    "    try:\n",
    "        tag_dated, sleep_time = adls_utils.load_inspection_snapshot()\n",
    "    except:\n",
    "        tag_dated = InstagramHashTag('surf', sessionid=random.choice(secrets['instagram']['session_id']))\n",
    "        sleep_time = 30 + gs.calculate_waiting_time(tag_dated, tag_dated)\n",
    "        print(\"[SNAPSHOT] The snapshot couldn't be loaded. A new snapshot will be generated. Some posts may have gotten lost.\")\n",
    "        print(\"[SNAPSHOT] {} seconds remaining until next inspection.\".format(sleep_time))\n",
    "    \n",
    "    time.sleep(sleep_time)\n",
    "    tag_latest = InstagramHashTag('surf', sessionid=random.choice(secrets['instagram']['session_id']))\n",
    "\n",
    "    dump_dict = {\n",
    "        \"posts_short\" : gs.get_diff_top_posts(tag_latest, tag_dated),\n",
    "        \"posts_full\" : gs.get_diff_json(tag_latest, tag_dated, False)\n",
    "    }\n",
    "\n",
    "    adls_utils.dump_adls_json(dump_dict, tag_latest, fs_client)\n",
    "\n",
    "    adls_utils.dump_inspection_snapshot(tag_latest, tag_dated) "
   ]
  },
  {
   "cell_type": "code",
   "execution_count": null,
   "metadata": {},
   "outputs": [],
   "source": []
  }
 ],
 "metadata": {
  "kernelspec": {
   "display_name": "scrap38",
   "language": "python",
   "name": "scrap38"
  },
  "language_info": {
   "codemirror_mode": {
    "name": "ipython",
    "version": 3
   },
   "file_extension": ".py",
   "mimetype": "text/x-python",
   "name": "python",
   "nbconvert_exporter": "python",
   "pygments_lexer": "ipython3",
   "version": "3.8.5-final"
  }
 },
 "nbformat": 4,
 "nbformat_minor": 5
}