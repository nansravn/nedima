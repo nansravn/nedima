{
 "cells": [
  {
   "cell_type": "code",
   "execution_count": 1,
   "metadata": {},
   "outputs": [],
   "source": [
    "import json\n",
    "import os\n",
    "import time\n",
    "import pickle\n",
    "import random\n",
    "\n",
    "from instagramy import InstagramUser\n",
    "from instagramy import InstagramHashTag\n",
    "from instagramy import InstagramPost\n",
    "\n",
    "from nedima.utils import adls_utils\n",
    "from nedima.utils import groundswell as gs"
   ]
  },
  {
   "cell_type": "code",
   "execution_count": 2,
   "metadata": {},
   "outputs": [],
   "source": [
    "secrets = adls_utils.load_secrets()\n",
    "adls_client = adls_utils.initialize_storage_account_ad()\n",
    "fs_client = adls_client.get_file_system_client(file_system=secrets['azure']['adls_fs_landing'])"
   ]
  },
  {
   "cell_type": "code",
   "execution_count": 3,
   "id": "light-alert",
   "metadata": {},
   "outputs": [],
   "source": [
    "#secrets"
   ]
  },
  {
   "cell_type": "code",
   "execution_count": 3,
   "metadata": {
    "tags": []
   },
   "outputs": [
    {
     "output_type": "stream",
     "name": "stdout",
     "text": [
      "[SNAPSHOT] Next inspection scheduled for 2021-02-17 16:50:38. 75 seconds remaining.\n",
      "[SESSION] Randomly selected the sessionid 46099456576%3AkMxIWKw2msDjE9%3A10 for the next inspection\n",
      "[DIFF] 32 new posts in the last 374 seconds\n",
      "[UPLOAD] posts_short was uploaded to the filesystem landing in the path tag/surf/posts_short/2021/02/17/165036_0032.json\n",
      "[UPLOAD] posts_full was uploaded to the filesystem landing in the path tag/surf/posts_full/2021/02/17/165036_0032.json\n",
      "\n",
      "[SNAPSHOT] Next inspection scheduled for 2021-02-17 17:00:32. 590 seconds remaining.\n"
     ]
    }
   ],
   "source": [
    "while(True):\n",
    "    try:\n",
    "        tag_dated, sleep_time = adls_utils.load_inspection_snapshot()\n",
    "    except:\n",
    "        tag_dated = InstagramHashTag('surf', sessionid=random.choice(secrets['instagram']['session_id']))\n",
    "        sleep_time = gs.calculate_waiting_time(tag_dated, tag_dated)\n",
    "        print(\"[SNAPSHOT] The snapshot couldn't be loaded. A new snapshot will be generated. Some posts may have gotten lost\")\n",
    "        print(\"[SNAPSHOT] {} seconds remaining until next inspection\".format(sleep_time))\n",
    "    \n",
    "    time.sleep(sleep_time)\n",
    "\n",
    "    random_id = random.choice(secrets['instagram']['session_id'])\n",
    "    print(\"[SESSION] Randomly selected the sessionid {} for the next inspection\".format(random_id))\n",
    "    tag_latest = InstagramHashTag('surf', sessionid=random_id)\n",
    "\n",
    "    dump_dict = {\n",
    "        \"posts_short\" : gs.get_diff_top_posts(tag_latest, tag_dated),\n",
    "        \"posts_full\" : gs.get_diff_json(tag_latest, tag_dated, False)\n",
    "    }\n",
    "\n",
    "    adls_utils.dump_adls_json(dump_dict, tag_latest, fs_client)\n",
    "\n",
    "    adls_utils.dump_inspection_snapshot(tag_latest, tag_dated)\n",
    "    print(\"\")"
   ]
  },
  {
   "cell_type": "code",
   "execution_count": null,
   "metadata": {},
   "outputs": [],
   "source": []
  }
 ],
 "metadata": {
  "kernelspec": {
   "display_name": "scrap38",
   "language": "python",
   "name": "scrap38"
  },
  "language_info": {
   "codemirror_mode": {
    "name": "ipython",
    "version": 3
   },
   "file_extension": ".py",
   "mimetype": "text/x-python",
   "name": "python",
   "nbconvert_exporter": "python",
   "pygments_lexer": "ipython3",
   "version": "3.8.5-final"
  }
 },
 "nbformat": 4,
 "nbformat_minor": 5
}